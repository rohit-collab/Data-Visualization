{
 "cells": [
  {
   "cell_type": "markdown",
   "id": "molecular-california",
   "metadata": {
    "papermill": {
     "duration": 0.015847,
     "end_time": "2021-04-30T03:41:14.592605",
     "exception": false,
     "start_time": "2021-04-30T03:41:14.576758",
     "status": "completed"
    },
    "tags": []
   },
   "source": [
    "In this exercise, you will use your new knowledge to propose a solution to a real-world scenario. To succeed, you will need to import data into Python, answer questions using the data, and generate **line charts** to understand patterns in the data.\n",
    "\n",
    "## Scenario\n",
    "\n",
    "You have recently been hired to manage the museums in the City of Los Angeles. Your first project focuses on the four museums pictured in the images below.\n",
    "\n",
    "![ex1_museums](https://i.imgur.com/pFYL8J1.png)\n",
    "\n",
    "You will leverage data from the Los Angeles [Data Portal](https://data.lacity.org/) that tracks monthly visitors to each museum.  \n",
    "\n",
    "![ex1_xlsx](https://i.imgur.com/mGWYlym.png)\n",
    "\n",
    "## Setup\n",
    "\n",
    "Run the next cell to import and configure the Python libraries that you need to complete the exercise."
   ]
  },
  {
   "cell_type": "code",
   "execution_count": 1,
   "id": "living-electric",
   "metadata": {
    "execution": {
     "iopub.execute_input": "2021-04-30T03:41:14.629576Z",
     "iopub.status.busy": "2021-04-30T03:41:14.628911Z",
     "iopub.status.idle": "2021-04-30T03:41:15.673308Z",
     "shell.execute_reply": "2021-04-30T03:41:15.671885Z"
    },
    "papermill": {
     "duration": 1.066247,
     "end_time": "2021-04-30T03:41:15.673595",
     "exception": false,
     "start_time": "2021-04-30T03:41:14.607348",
     "status": "completed"
    },
    "tags": []
   },
   "outputs": [
    {
     "name": "stdout",
     "output_type": "stream",
     "text": [
      "Setup Complete\n"
     ]
    }
   ],
   "source": [
    "import pandas as pd\n",
    "pd.plotting.register_matplotlib_converters()\n",
    "import matplotlib.pyplot as plt\n",
    "%matplotlib inline\n",
    "import seaborn as sns\n",
    "print(\"Setup Complete\")"
   ]
  },
  {
   "cell_type": "markdown",
   "id": "secondary-novel",
   "metadata": {
    "papermill": {
     "duration": 0.014545,
     "end_time": "2021-04-30T03:41:15.703947",
     "exception": false,
     "start_time": "2021-04-30T03:41:15.689402",
     "status": "completed"
    },
    "tags": []
   },
   "source": [
    "The questions below will give you feedback on your work. Run the following cell to set up the feedback system."
   ]
  },
  {
   "cell_type": "code",
   "execution_count": 2,
   "id": "collected-tunisia",
   "metadata": {
    "execution": {
     "iopub.execute_input": "2021-04-30T03:41:15.740272Z",
     "iopub.status.busy": "2021-04-30T03:41:15.739588Z",
     "iopub.status.idle": "2021-04-30T03:41:15.819214Z",
     "shell.execute_reply": "2021-04-30T03:41:15.819749Z"
    },
    "papermill": {
     "duration": 0.100942,
     "end_time": "2021-04-30T03:41:15.819940",
     "exception": false,
     "start_time": "2021-04-30T03:41:15.718998",
     "status": "completed"
    },
    "tags": []
   },
   "outputs": [
    {
     "name": "stdout",
     "output_type": "stream",
     "text": [
      "Setup Complete\n"
     ]
    }
   ],
   "source": [
    "# Set up code checking\n",
    "import os\n",
    "if not os.path.exists(\"../input/museum_visitors.csv\"):\n",
    "    os.symlink(\"../input/data-for-datavis/museum_visitors.csv\", \"../input/museum_visitors.csv\") \n",
    "from learntools.core import binder\n",
    "binder.bind(globals())\n",
    "from learntools.data_viz_to_coder.ex2 import *\n",
    "print(\"Setup Complete\")"
   ]
  },
  {
   "cell_type": "markdown",
   "id": "possible-slope",
   "metadata": {
    "papermill": {
     "duration": 0.015073,
     "end_time": "2021-04-30T03:41:15.850540",
     "exception": false,
     "start_time": "2021-04-30T03:41:15.835467",
     "status": "completed"
    },
    "tags": []
   },
   "source": [
    "## Step 1: Load the data\n",
    "\n",
    "Your first assignment is to read the LA Museum Visitors data file into `museum_data`.  Note that:\n",
    "- The filepath to the dataset is stored as `museum_filepath`.  Please **do not** change the provided value of the filepath.\n",
    "- The name of the column to use as row labels is `\"Date\"`.  (This can be seen in cell A1 when the file is opened in Excel.)\n",
    "\n",
    "To help with this, you may find it useful to revisit some relevant code from the tutorial, which we have pasted below:\n",
    "\n",
    "```python\n",
    "# Path of the file to read\n",
    "spotify_filepath = \"../input/spotify.csv\"\n",
    "\n",
    "# Read the file into a variable spotify_data\n",
    "spotify_data = pd.read_csv(spotify_filepath, index_col=\"Date\", parse_dates=True)\n",
    "```\n",
    "\n",
    "The code you need to write now looks very similar!"
   ]
  },
  {
   "cell_type": "code",
   "execution_count": 3,
   "id": "juvenile-product",
   "metadata": {
    "execution": {
     "iopub.execute_input": "2021-04-30T03:41:15.888158Z",
     "iopub.status.busy": "2021-04-30T03:41:15.887485Z",
     "iopub.status.idle": "2021-04-30T03:41:15.905022Z",
     "shell.execute_reply": "2021-04-30T03:41:15.904421Z"
    },
    "papermill": {
     "duration": 0.039156,
     "end_time": "2021-04-30T03:41:15.905175",
     "exception": false,
     "start_time": "2021-04-30T03:41:15.866019",
     "status": "completed"
    },
    "tags": []
   },
   "outputs": [
    {
     "data": {
      "application/javascript": [
       "parent.postMessage({\"jupyterEvent\": \"custom.exercise_interaction\", \"data\": {\"outcomeType\": 1, \"valueTowardsCompletion\": 0.3333333333333333, \"interactionType\": 1, \"questionType\": 1, \"questionId\": \"1_LoadMuseumData\", \"learnToolsVersion\": \"0.3.4\", \"failureMessage\": \"\", \"exceptionClass\": \"\", \"trace\": \"\"}}, \"*\")"
      ],
      "text/plain": [
       "<IPython.core.display.Javascript object>"
      ]
     },
     "metadata": {},
     "output_type": "display_data"
    },
    {
     "data": {
      "text/markdown": [
       "<span style=\"color:#33cc33\">Correct</span>"
      ],
      "text/plain": [
       "Correct"
      ]
     },
     "metadata": {},
     "output_type": "display_data"
    }
   ],
   "source": [
    "# Path of the file to read\n",
    "museum_filepath = \"../input/museum_visitors.csv\"\n",
    "\n",
    "# Fill in the line below to read the file into a variable museum_data\n",
    "museum_data = pd.read_csv(museum_filepath, index_col=\"Date\", parse_dates=True)\n",
    "\n",
    "# Run the line below with no changes to check that you've loaded the data correctly\n",
    "step_1.check()"
   ]
  },
  {
   "cell_type": "code",
   "execution_count": 4,
   "id": "compact-earth",
   "metadata": {
    "execution": {
     "iopub.execute_input": "2021-04-30T03:41:15.947749Z",
     "iopub.status.busy": "2021-04-30T03:41:15.946736Z",
     "iopub.status.idle": "2021-04-30T03:41:15.950496Z",
     "shell.execute_reply": "2021-04-30T03:41:15.949927Z"
    },
    "papermill": {
     "duration": 0.025411,
     "end_time": "2021-04-30T03:41:15.950664",
     "exception": false,
     "start_time": "2021-04-30T03:41:15.925253",
     "status": "completed"
    },
    "tags": []
   },
   "outputs": [],
   "source": [
    "# Uncomment the line below to receive a hint\n",
    "#step_1.hint()\n",
    "# Uncomment the line below to see the solution\n",
    "\n",
    "#step_1.solution()"
   ]
  },
  {
   "cell_type": "markdown",
   "id": "outside-engine",
   "metadata": {
    "papermill": {
     "duration": 0.017539,
     "end_time": "2021-04-30T03:41:15.985826",
     "exception": false,
     "start_time": "2021-04-30T03:41:15.968287",
     "status": "completed"
    },
    "tags": []
   },
   "source": [
    "## Step 2: Review the data\n",
    "\n",
    "Use a Python command to print the last 5 rows of the data."
   ]
  },
  {
   "cell_type": "code",
   "execution_count": 5,
   "id": "broad-device",
   "metadata": {
    "execution": {
     "iopub.execute_input": "2021-04-30T03:41:16.026417Z",
     "iopub.status.busy": "2021-04-30T03:41:16.025439Z",
     "iopub.status.idle": "2021-04-30T03:41:16.041129Z",
     "shell.execute_reply": "2021-04-30T03:41:16.040099Z"
    },
    "papermill": {
     "duration": 0.038515,
     "end_time": "2021-04-30T03:41:16.041308",
     "exception": false,
     "start_time": "2021-04-30T03:41:16.002793",
     "status": "completed"
    },
    "tags": []
   },
   "outputs": [
    {
     "data": {
      "text/html": [
       "<div>\n",
       "<style scoped>\n",
       "    .dataframe tbody tr th:only-of-type {\n",
       "        vertical-align: middle;\n",
       "    }\n",
       "\n",
       "    .dataframe tbody tr th {\n",
       "        vertical-align: top;\n",
       "    }\n",
       "\n",
       "    .dataframe thead th {\n",
       "        text-align: right;\n",
       "    }\n",
       "</style>\n",
       "<table border=\"1\" class=\"dataframe\">\n",
       "  <thead>\n",
       "    <tr style=\"text-align: right;\">\n",
       "      <th></th>\n",
       "      <th>Avila Adobe</th>\n",
       "      <th>Firehouse Museum</th>\n",
       "      <th>Chinese American Museum</th>\n",
       "      <th>America Tropical Interpretive Center</th>\n",
       "    </tr>\n",
       "    <tr>\n",
       "      <th>Date</th>\n",
       "      <th></th>\n",
       "      <th></th>\n",
       "      <th></th>\n",
       "      <th></th>\n",
       "    </tr>\n",
       "  </thead>\n",
       "  <tbody>\n",
       "    <tr>\n",
       "      <th>2018-07-01</th>\n",
       "      <td>23136</td>\n",
       "      <td>4191</td>\n",
       "      <td>2620</td>\n",
       "      <td>4718</td>\n",
       "    </tr>\n",
       "    <tr>\n",
       "      <th>2018-08-01</th>\n",
       "      <td>20815</td>\n",
       "      <td>4866</td>\n",
       "      <td>2409</td>\n",
       "      <td>3891</td>\n",
       "    </tr>\n",
       "    <tr>\n",
       "      <th>2018-09-01</th>\n",
       "      <td>21020</td>\n",
       "      <td>4956</td>\n",
       "      <td>2146</td>\n",
       "      <td>3180</td>\n",
       "    </tr>\n",
       "    <tr>\n",
       "      <th>2018-10-01</th>\n",
       "      <td>19280</td>\n",
       "      <td>4622</td>\n",
       "      <td>2364</td>\n",
       "      <td>3775</td>\n",
       "    </tr>\n",
       "    <tr>\n",
       "      <th>2018-11-01</th>\n",
       "      <td>17163</td>\n",
       "      <td>4082</td>\n",
       "      <td>2385</td>\n",
       "      <td>4562</td>\n",
       "    </tr>\n",
       "  </tbody>\n",
       "</table>\n",
       "</div>"
      ],
      "text/plain": [
       "            Avila Adobe  Firehouse Museum  Chinese American Museum  \\\n",
       "Date                                                                 \n",
       "2018-07-01        23136              4191                     2620   \n",
       "2018-08-01        20815              4866                     2409   \n",
       "2018-09-01        21020              4956                     2146   \n",
       "2018-10-01        19280              4622                     2364   \n",
       "2018-11-01        17163              4082                     2385   \n",
       "\n",
       "            America Tropical Interpretive Center  \n",
       "Date                                              \n",
       "2018-07-01                                  4718  \n",
       "2018-08-01                                  3891  \n",
       "2018-09-01                                  3180  \n",
       "2018-10-01                                  3775  \n",
       "2018-11-01                                  4562  "
      ]
     },
     "execution_count": 5,
     "metadata": {},
     "output_type": "execute_result"
    }
   ],
   "source": [
    "# Print the last five rows of the data \n",
    "museum_data.tail()"
   ]
  },
  {
   "cell_type": "markdown",
   "id": "comprehensive-navigator",
   "metadata": {
    "papermill": {
     "duration": 0.017079,
     "end_time": "2021-04-30T03:41:16.076620",
     "exception": false,
     "start_time": "2021-04-30T03:41:16.059541",
     "status": "completed"
    },
    "tags": []
   },
   "source": [
    "The last row (for `2018-11-01`) tracks the number of visitors to each museum in November 2018, the next-to-last row (for `2018-10-01`) tracks the number of visitors to each museum in October 2018, _and so on_.\n",
    "\n",
    "Use the last 5 rows of the data to answer the questions below."
   ]
  },
  {
   "cell_type": "code",
   "execution_count": 6,
   "id": "laughing-smile",
   "metadata": {
    "execution": {
     "iopub.execute_input": "2021-04-30T03:41:16.117239Z",
     "iopub.status.busy": "2021-04-30T03:41:16.116590Z",
     "iopub.status.idle": "2021-04-30T03:41:16.120296Z",
     "shell.execute_reply": "2021-04-30T03:41:16.120810Z"
    },
    "papermill": {
     "duration": 0.027003,
     "end_time": "2021-04-30T03:41:16.120983",
     "exception": false,
     "start_time": "2021-04-30T03:41:16.093980",
     "status": "completed"
    },
    "tags": []
   },
   "outputs": [
    {
     "data": {
      "application/javascript": [
       "parent.postMessage({\"jupyterEvent\": \"custom.exercise_interaction\", \"data\": {\"outcomeType\": 1, \"valueTowardsCompletion\": 0.3333333333333333, \"interactionType\": 1, \"questionType\": 1, \"questionId\": \"2_ReviewData\", \"learnToolsVersion\": \"0.3.4\", \"failureMessage\": \"\", \"exceptionClass\": \"\", \"trace\": \"\"}}, \"*\")"
      ],
      "text/plain": [
       "<IPython.core.display.Javascript object>"
      ]
     },
     "metadata": {},
     "output_type": "display_data"
    },
    {
     "data": {
      "text/markdown": [
       "<span style=\"color:#33cc33\">Correct</span>"
      ],
      "text/plain": [
       "Correct"
      ]
     },
     "metadata": {},
     "output_type": "display_data"
    }
   ],
   "source": [
    "# Fill in the line below: How many visitors did the Chinese American Museum \n",
    "# receive in July 2018?\n",
    "ca_museum_jul18 = 2620\n",
    "\n",
    "# Fill in the line below: In October 2018, how many more visitors did Avila \n",
    "# Adobe receive than the Firehouse Museum?\n",
    "avila_oct18 = 14658\n",
    "\n",
    "# Check your answers\n",
    "step_2.check()"
   ]
  },
  {
   "cell_type": "code",
   "execution_count": 7,
   "id": "standing-alloy",
   "metadata": {
    "execution": {
     "iopub.execute_input": "2021-04-30T03:41:16.161390Z",
     "iopub.status.busy": "2021-04-30T03:41:16.160750Z",
     "iopub.status.idle": "2021-04-30T03:41:16.164659Z",
     "shell.execute_reply": "2021-04-30T03:41:16.164119Z"
    },
    "papermill": {
     "duration": 0.025464,
     "end_time": "2021-04-30T03:41:16.164809",
     "exception": false,
     "start_time": "2021-04-30T03:41:16.139345",
     "status": "completed"
    },
    "tags": []
   },
   "outputs": [],
   "source": [
    "# Lines below will give you a hint or solution code\n",
    "#step_2.hint()\n",
    "#step_2.solution()"
   ]
  },
  {
   "cell_type": "markdown",
   "id": "accessible-canon",
   "metadata": {
    "papermill": {
     "duration": 0.018624,
     "end_time": "2021-04-30T03:41:16.202143",
     "exception": false,
     "start_time": "2021-04-30T03:41:16.183519",
     "status": "completed"
    },
    "tags": []
   },
   "source": [
    "## Step 3: Convince the museum board \n",
    "\n",
    "The Firehouse Museum claims they ran an event in 2014 that brought an incredible number of visitors, and that they should get extra budget to run a similar event again.  The other museums think these types of events aren't that important, and budgets should be split purely based on recent visitors on an average day.  \n",
    "\n",
    "To show the museum board how the event compared to regular traffic at each museum, create a line chart that shows how the number of visitors to each museum evolved over time.  Your figure should have four lines (one for each museum).\n",
    "\n",
    "> **(Optional) Note**: If you have some prior experience with plotting figures in Python, you might be familiar with the `plt.show()` command.  If you decide to use this command, please place it **after** the line of code that checks your answer (in this case, place it after `step_3.check()` below) -- otherwise, the checking code will return an error!"
   ]
  },
  {
   "cell_type": "code",
   "execution_count": 8,
   "id": "headed-stranger",
   "metadata": {
    "execution": {
     "iopub.execute_input": "2021-04-30T03:41:16.247906Z",
     "iopub.status.busy": "2021-04-30T03:41:16.247184Z",
     "iopub.status.idle": "2021-04-30T03:41:16.705310Z",
     "shell.execute_reply": "2021-04-30T03:41:16.705844Z"
    },
    "papermill": {
     "duration": 0.485128,
     "end_time": "2021-04-30T03:41:16.706033",
     "exception": false,
     "start_time": "2021-04-30T03:41:16.220905",
     "status": "completed"
    },
    "tags": []
   },
   "outputs": [
    {
     "data": {
      "application/javascript": [
       "parent.postMessage({\"jupyterEvent\": \"custom.exercise_interaction\", \"data\": {\"outcomeType\": 1, \"valueTowardsCompletion\": 0.3333333333333333, \"interactionType\": 1, \"questionType\": 2, \"questionId\": \"3_PlotAll\", \"learnToolsVersion\": \"0.3.4\", \"failureMessage\": \"\", \"exceptionClass\": \"\", \"trace\": \"\"}}, \"*\")"
      ],
      "text/plain": [
       "<IPython.core.display.Javascript object>"
      ]
     },
     "metadata": {},
     "output_type": "display_data"
    },
    {
     "data": {
      "text/markdown": [
       "<span style=\"color:#33cc33\">Correct</span>"
      ],
      "text/plain": [
       "Correct"
      ]
     },
     "metadata": {},
     "output_type": "display_data"
    },
    {
     "data": {
      "image/png": "[encoded data removed]",
      "text/plain": [
       "<Figure size 864x432 with 1 Axes>"
      ]
     },
     "metadata": {
      "needs_background": "light"
     },
     "output_type": "display_data"
    }
   ],
   "source": [
    "#set the width and height of figure\n",
    "plt.figure(figsize=(12,6))\n",
    "# Line chart showing the number of visitors to each museum over time\n",
    "sns.lineplot(data=museum_data)\n",
    "#Title\n",
    "plt.title(\"Monthly Visitors to Los Angeles City Museums is\")\n",
    "\n",
    "\n",
    "# Check your answer\n",
    "step_3.check()"
   ]
  },
  {
   "cell_type": "code",
   "execution_count": 9,
   "id": "modern-collective",
   "metadata": {
    "execution": {
     "iopub.execute_input": "2021-04-30T03:41:16.756347Z",
     "iopub.status.busy": "2021-04-30T03:41:16.755699Z",
     "iopub.status.idle": "2021-04-30T03:41:16.759280Z",
     "shell.execute_reply": "2021-04-30T03:41:16.758718Z"
    },
    "papermill": {
     "duration": 0.030674,
     "end_time": "2021-04-30T03:41:16.759449",
     "exception": false,
     "start_time": "2021-04-30T03:41:16.728775",
     "status": "completed"
    },
    "tags": []
   },
   "outputs": [],
   "source": [
    "# Lines below will give you a hint or solution code\n",
    "#step_3.hint()\n",
    "#step_3.solution_plot()"
   ]
  },
  {
   "cell_type": "markdown",
   "id": "hired-breeding",
   "metadata": {
    "papermill": {
     "duration": 0.021963,
     "end_time": "2021-04-30T03:41:16.803741",
     "exception": false,
     "start_time": "2021-04-30T03:41:16.781778",
     "status": "completed"
    },
    "tags": []
   },
   "source": [
    "## Step 4: Assess seasonality\n",
    "\n",
    "When meeting with the employees at Avila Adobe, you hear that one major pain point is that the number of museum visitors varies greatly with the seasons, with low seasons (when the employees are perfectly staffed and happy) and also high seasons (when the employees are understaffed and stressed).  You realize that if you can predict these high and low seasons, you can plan ahead to hire some additional seasonal employees to help out with the extra work.\n",
    "\n",
    "#### Part A\n",
    "Create a line chart that shows how the number of visitors to Avila Adobe has evolved over time.  (_If your code returns an error, the first thing that you should check is that you've spelled the name of the column correctly!  You must write the name of the column exactly as it appears in the dataset._)"
   ]
  },
  {
   "cell_type": "code",
   "execution_count": 10,
   "id": "reduced-instrument",
   "metadata": {
    "execution": {
     "iopub.execute_input": "2021-04-30T03:41:16.872061Z",
     "iopub.status.busy": "2021-04-30T03:41:16.871318Z",
     "iopub.status.idle": "2021-04-30T03:41:17.066544Z",
     "shell.execute_reply": "2021-04-30T03:41:17.065842Z"
    },
    "papermill": {
     "duration": 0.240527,
     "end_time": "2021-04-30T03:41:17.066704",
     "exception": false,
     "start_time": "2021-04-30T03:41:16.826177",
     "status": "completed"
    },
    "tags": []
   },
   "outputs": [
    {
     "name": "stdout",
     "output_type": "stream",
     "text": [
      "Thank you for creating a line chart!  To see how your code compares to the official solution, please use the code cell below.\n"
     ]
    },
    {
     "data": {
      "application/javascript": [
       "parent.postMessage({\"jupyterEvent\": \"custom.exercise_interaction\", \"data\": {\"outcomeType\": 1, \"valueTowardsCompletion\": 0.3333333333333333, \"interactionType\": 1, \"questionType\": 2, \"questionId\": \"4.1_PlotAvila\", \"learnToolsVersion\": \"0.3.4\", \"failureMessage\": \"\", \"exceptionClass\": \"\", \"trace\": \"\"}}, \"*\")"
      ],
      "text/plain": [
       "<IPython.core.display.Javascript object>"
      ]
     },
     "metadata": {},
     "output_type": "display_data"
    },
    {
     "data": {
      "text/markdown": [
       "<span style=\"color:#33cc33\">Correct</span>"
      ],
      "text/plain": [
       "Correct"
      ]
     },
     "metadata": {},
     "output_type": "display_data"
    },
    {
     "data": {
      "image/png": "[encoded data removed]",
      "text/plain": [
       "<Figure size 864x432 with 1 Axes>"
      ]
     },
     "metadata": {
      "needs_background": "light"
     },
     "output_type": "display_data"
    }
   ],
   "source": [
    "#set height and width of figure\n",
    "plt.figure(figsize=(12,6))\n",
    "#Add Title\n",
    "plt.title(\"Monthly visitors to Avila Adobe\")\n",
    "# Line plot showing the number of visitors to Avila Adobe over time\n",
    "sns.lineplot(data=museum_data['Avila Adobe'])\n",
    "#Label to horiziontal axis\n",
    "plt.xlabel(\"Date\")\n",
    "\n",
    "# Check your answer\n",
    "step_4.a.check()"
   ]
  },
  {
   "cell_type": "code",
   "execution_count": 11,
   "id": "coupled-empty",
   "metadata": {
    "execution": {
     "iopub.execute_input": "2021-04-30T03:41:17.123101Z",
     "iopub.status.busy": "2021-04-30T03:41:17.122418Z",
     "iopub.status.idle": "2021-04-30T03:41:17.126798Z",
     "shell.execute_reply": "2021-04-30T03:41:17.126095Z"
    },
    "papermill": {
     "duration": 0.03439,
     "end_time": "2021-04-30T03:41:17.126959",
     "exception": false,
     "start_time": "2021-04-30T03:41:17.092569",
     "status": "completed"
    },
    "tags": []
   },
   "outputs": [],
   "source": [
    "# Lines below will give you a hint or solution code\n",
    "#step_4.a.hint()\n",
    "#step_4.a.solution_plot()"
   ]
  },
  {
   "cell_type": "markdown",
   "id": "christian-grill",
   "metadata": {
    "papermill": {
     "duration": 0.025484,
     "end_time": "2021-04-30T03:41:17.178189",
     "exception": false,
     "start_time": "2021-04-30T03:41:17.152705",
     "status": "completed"
    },
    "tags": []
   },
   "source": [
    "#### Part B\n",
    "\n",
    "Does Avila Adobe get more visitors:\n",
    "- in September-February (in LA, the fall and winter months), or \n",
    "- in March-August (in LA, the spring and summer)?  \n",
    "\n",
    "Using this information, when should the museum staff additional seasonal employees?"
   ]
  },
  {
   "cell_type": "code",
   "execution_count": 12,
   "id": "advance-pottery",
   "metadata": {
    "execution": {
     "iopub.execute_input": "2021-04-30T03:41:17.235988Z",
     "iopub.status.busy": "2021-04-30T03:41:17.234680Z",
     "iopub.status.idle": "2021-04-30T03:41:17.237658Z",
     "shell.execute_reply": "2021-04-30T03:41:17.238113Z"
    },
    "papermill": {
     "duration": 0.034159,
     "end_time": "2021-04-30T03:41:17.238310",
     "exception": false,
     "start_time": "2021-04-30T03:41:17.204151",
     "status": "completed"
    },
    "tags": []
   },
   "outputs": [],
   "source": [
    "#step_4.b.hint()"
   ]
  },
  {
   "cell_type": "code",
   "execution_count": 13,
   "id": "expressed-maine",
   "metadata": {
    "execution": {
     "iopub.execute_input": "2021-04-30T03:41:17.299070Z",
     "iopub.status.busy": "2021-04-30T03:41:17.298025Z",
     "iopub.status.idle": "2021-04-30T03:41:17.303206Z",
     "shell.execute_reply": "2021-04-30T03:41:17.303821Z"
    },
    "papermill": {
     "duration": 0.038786,
     "end_time": "2021-04-30T03:41:17.304005",
     "exception": false,
     "start_time": "2021-04-30T03:41:17.265219",
     "status": "completed"
    },
    "tags": []
   },
   "outputs": [
    {
     "data": {
      "application/javascript": [
       "parent.postMessage({\"jupyterEvent\": \"custom.exercise_interaction\", \"data\": {\"interactionType\": 3, \"questionType\": 4, \"questionId\": \"4.2_ThinkAvila\", \"learnToolsVersion\": \"0.3.4\", \"valueTowardsCompletion\": 0.0, \"failureMessage\": \"\", \"exceptionClass\": \"\", \"trace\": \"\", \"outcomeType\": 4}}, \"*\")"
      ],
      "text/plain": [
       "<IPython.core.display.Javascript object>"
      ]
     },
     "metadata": {},
     "output_type": "display_data"
    },
    {
     "data": {
      "text/markdown": [
       "<span style=\"color:#33cc99\">Solution:</span> The line chart generally dips to relatively low values around the early part of each year (in December and January), and reaches its highest values in the middle of the year (especially around May and June).  Thus, Avila Adobe usually gets more visitors in March-August (or the spring and summer months).  With this in mind, Avila Adobe could definitely benefit from hiring more seasonal employees to help with the extra work in March-August (the spring and summer)!"
      ],
      "text/plain": [
       "Solution: The line chart generally dips to relatively low values around the early part of each year (in December and January), and reaches its highest values in the middle of the year (especially around May and June).  Thus, Avila Adobe usually gets more visitors in March-August (or the spring and summer months).  With this in mind, Avila Adobe could definitely benefit from hiring more seasonal employees to help with the extra work in March-August (the spring and summer)!"
      ]
     },
     "metadata": {},
     "output_type": "display_data"
    }
   ],
   "source": [
    "# Check your answer (Run this code cell to receive credit!)\n",
    "step_4.b.solution()"
   ]
  },
  {
   "cell_type": "markdown",
   "id": "included-satellite",
   "metadata": {
    "papermill": {
     "duration": 0.026745,
     "end_time": "2021-04-30T03:41:17.357912",
     "exception": false,
     "start_time": "2021-04-30T03:41:17.331167",
     "status": "completed"
    },
    "tags": []
   },
   "source": [
    "# Keep going\n",
    "\n",
    "Move on to learn about **[bar charts and heatmaps](https://www.kaggle.com/alexisbcook/bar-charts-and-heatmaps)** with a new dataset!"
   ]
  },
  {
   "cell_type": "markdown",
   "id": "czech-prescription",
   "metadata": {
    "papermill": {
     "duration": 0.03024,
     "end_time": "2021-04-30T03:41:17.415100",
     "exception": false,
     "start_time": "2021-04-30T03:41:17.384860",
     "status": "completed"
    },
    "tags": []
   },
   "source": [
    "---\n",
    "\n",
    "\n",
    "\n",
    "\n",
    "*Have questions or comments? Visit the [Learn Discussion forum](https://www.kaggle.com/learn-forum/161291) to chat with other Learners.*"
   ]
  }
 ],
 "metadata": {
  "kernelspec": {
   "display_name": "Python 3",
   "language": "python",
   "name": "python3"
  },
  "language_info": {
   "codemirror_mode": {
    "name": "ipython",
    "version": 3
   },
   "file_extension": ".py",
   "mimetype": "text/x-python",
   "name": "python",
   "nbconvert_exporter": "python",
   "pygments_lexer": "ipython3",
   "version": "3.7.9"
  },
  "papermill": {
   "default_parameters": {},
   "duration": 10.690789,
   "end_time": "2021-04-30T03:41:18.355103",
   "environment_variables": {},
   "exception": null,
   "input_path": "__notebook__.ipynb",
   "output_path": "__notebook__.ipynb",
   "parameters": {},
   "start_time": "2021-04-30T03:41:07.664314",
   "version": "2.3.2"
  }
 },
 "nbformat": 4,
 "nbformat_minor": 5
}
